{
 "cells": [
  {
   "cell_type": "markdown",
   "metadata": {},
   "source": [
    "### This notebook uses preprocessed training data to train different models in order\n",
    "### to compare their performance."
   ]
  },
  {
   "cell_type": "code",
   "execution_count": 1,
   "metadata": {},
   "outputs": [],
   "source": [
    "import pandas as pd\n",
    "import numpy as np\n",
    "from sklearn.dummy import DummyClassifier\n",
    "from sklearn.linear_model import LogisticRegression\n",
    "from sklearn.ensemble import RandomForestClassifier\n",
    "from sklearn.svm import SVC\n",
    "from sklearn.metrics import accuracy_score\n",
    "from sklearn.model_selection import train_test_split\n",
    "from sklearn.model_selection import GroupShuffleSplit\n",
    "import time\n",
    "from tqdm import tqdm\n",
    "import xgboost"
   ]
  },
  {
   "cell_type": "code",
   "execution_count": 2,
   "metadata": {},
   "outputs": [],
   "source": [
    "period_features = pd.read_csv(\"period_features_glove.csv\") # preprocessing using Glove and dropping certain types of tweets"
   ]
  },
  {
   "cell_type": "code",
   "execution_count": null,
   "metadata": {},
   "outputs": [],
   "source": [
    "# We drop the non-numerical features and keep the embeddings values for each period\n",
    "X = period_features.drop(columns=[\"EventType\", \"MatchID\", \"PeriodID\", \"ID\"]).values\n",
    "# We extract the labels of our training samples\n",
    "y = period_features[\"EventType\"].values"
   ]
  },
  {
   "cell_type": "code",
   "execution_count": 4,
   "metadata": {},
   "outputs": [],
   "source": [
    "###### Evaluating on a test set:\n",
    "\n",
    "# We split our data into a training and test set that we can use to train our classifier without fine-tuning into the\n",
    "# validation set and without submitting too many times into Kaggle\n",
    "X_train, X_test, y_train, y_test = train_test_split(\n",
    "    X, y, test_size=0.3, random_state=42\n",
    ")"
   ]
  },
  {
   "cell_type": "markdown",
   "metadata": {},
   "source": [
    "### Logistic regression"
   ]
  },
  {
   "cell_type": "code",
   "execution_count": 5,
   "metadata": {},
   "outputs": [
    {
     "name": "stdout",
     "output_type": "stream",
     "text": [
      "Test set:  0.7383177570093458\n"
     ]
    }
   ],
   "source": [
    "period_features_test = pd.read_csv(\"period_features_test_glove.csv\")\n",
    "\n",
    "# We set up a basic classifier that we train and then calculate the accuracy on our test set\n",
    "clf = LogisticRegression(random_state=42, max_iter=1000).fit(X_train, y_train)\n",
    "y_pred = clf.predict(X_test)\n",
    "print(\"Test set: \", accuracy_score(y_test, y_pred))\n",
    "\n",
    "# This time we train our classifier on the full dataset that it is available to us.\n",
    "clf = LogisticRegression(random_state=42, max_iter=1000).fit(X, y)\n",
    "# We add a dummy classifier for sanity purposes\n",
    "dummy_clf = DummyClassifier(strategy=\"most_frequent\").fit(X, y)\n",
    "\n",
    "X_eval = period_features_test.drop(columns=[\"MatchID\", \"PeriodID\", \"ID\"]).values\n",
    "\n",
    "# Predict using the trained classifiers\n",
    "preds = clf.predict(X_eval)\n",
    "\n",
    "# Add predictions to the dataframe\n",
    "period_features_test[\"EventType\"] = preds\n",
    "\n",
    "# Prepare the final prediction dataframes\n",
    "predictions = period_features_test[[\"ID\", \"EventType\"]]\n",
    "\n",
    "pred_df = predictions\n",
    "pred_df.to_csv(\"logistic_better_preprocessing_predictions.csv\", index=False)"
   ]
  },
  {
   "cell_type": "markdown",
   "metadata": {},
   "source": [
    "### Random Forest"
   ]
  },
  {
   "cell_type": "code",
   "execution_count": 6,
   "metadata": {},
   "outputs": [
    {
     "name": "stdout",
     "output_type": "stream",
     "text": [
      "Test set:  0.764797507788162\n"
     ]
    }
   ],
   "source": [
    "period_features_test = pd.read_csv(\"period_features_test_glove.csv\")\n",
    "\n",
    "# We set up a basic classifier that we train and then calculate the accuracy on our test set\n",
    "clf = RandomForestClassifier(random_state=42, n_estimators=100).fit(X_train, y_train)\n",
    "y_pred = clf.predict(X_test)\n",
    "print(\"Test set: \", accuracy_score(y_test, y_pred))\n",
    "\n",
    "# This time we train our classifier on the full dataset that it is available to us.\n",
    "clf = RandomForestClassifier(random_state=42, n_estimators=100).fit(X, y)\n",
    "\n",
    "X_eval = period_features_test.drop(columns=[\"MatchID\", \"PeriodID\", \"ID\"]).values\n",
    "\n",
    "# Predict using the trained classifiers\n",
    "preds = clf.predict(X_eval)\n",
    "\n",
    "# Add predictions to the dataframe\n",
    "period_features_test[\"EventType\"] = preds\n",
    "\n",
    "# Prepare the final prediction dataframes\n",
    "predictions = period_features_test[[\"ID\", \"EventType\"]]\n",
    "\n",
    "pred_df = predictions\n",
    "pred_df.to_csv(\"rf_better_preprocessing_predictions.csv\", index=False)"
   ]
  },
  {
   "cell_type": "markdown",
   "metadata": {},
   "source": [
    "### SVM"
   ]
  },
  {
   "cell_type": "code",
   "execution_count": 7,
   "metadata": {},
   "outputs": [
    {
     "name": "stdout",
     "output_type": "stream",
     "text": [
      "Test set accuracy (SVM): 0.7289719626168224\n",
      "Cross-validation scores: [0.68227425 0.68896321 0.74916388 0.71237458 0.69565217]\n",
      "Mean CV score: 0.705685618729097\n",
      "Confusion Matrix:\n",
      "[[224  76]\n",
      " [ 98 244]]\n",
      "\n",
      "Classification Report:\n",
      "              precision    recall  f1-score   support\n",
      "\n",
      "         0.0       0.70      0.75      0.72       300\n",
      "         1.0       0.76      0.71      0.74       342\n",
      "\n",
      "    accuracy                           0.73       642\n",
      "   macro avg       0.73      0.73      0.73       642\n",
      "weighted avg       0.73      0.73      0.73       642\n",
      "\n"
     ]
    }
   ],
   "source": [
    "# Load test dataset\n",
    "period_features_test = pd.read_csv(\"period_features_test_glove.csv\")\n",
    "\n",
    "# Train the SVM classifier on the train set\n",
    "svm_clf = SVC(random_state=42, kernel='linear', probability=True).fit(X_train, y_train)\n",
    "\n",
    "# Test set prediction and evaluation\n",
    "y_pred = svm_clf.predict(X_test)\n",
    "print(\"Test set accuracy (SVM):\", accuracy_score(y_test, y_pred))\n",
    "\n",
    "from sklearn.model_selection import cross_val_score\n",
    "\n",
    "scores = cross_val_score(svm_clf, X_train, y_train, cv=5)\n",
    "print(\"Cross-validation scores:\", scores)\n",
    "print(\"Mean CV score:\", scores.mean())\n",
    "\n",
    "from sklearn.metrics import confusion_matrix, classification_report\n",
    "\n",
    "y_pred = svm_clf.predict(X_test)\n",
    "print(\"Confusion Matrix:\")\n",
    "print(confusion_matrix(y_test, y_pred))\n",
    "print(\"\\nClassification Report:\")\n",
    "print(classification_report(y_test, y_pred))\n",
    "\n",
    "# Train the SVM classifier on the full dataset\n",
    "svm_clf = SVC(random_state=42, kernel='linear', probability=True).fit(X, y)\n",
    "\n",
    "# Add a dummy classifier for sanity purposes\n",
    "dummy_clf = DummyClassifier(strategy=\"most_frequent\").fit(X, y)\n",
    "\n",
    "# Prepare the evaluation dataset\n",
    "X_eval = period_features_test.drop(columns=[\"MatchID\", \"PeriodID\", \"ID\"]).values\n",
    "\n",
    "# Predict using the trained SVM classifier\n",
    "svm_preds = svm_clf.predict(X_eval)\n",
    "\n",
    "# Add predictions to the dataframe\n",
    "period_features_test[\"EventType\"] = svm_preds\n",
    "\n",
    "# Prepare the final prediction dataframe\n",
    "predictions = period_features_test[[\"ID\", \"EventType\"]]\n",
    "\n",
    "# Save predictions to a CSV file\n",
    "pred_df = predictions\n",
    "pred_df.to_csv(\"svm_better_preprocessing_predictions_.csv\", index=False)"
   ]
  },
  {
   "cell_type": "markdown",
   "metadata": {},
   "source": [
    "### XGboost"
   ]
  },
  {
   "cell_type": "code",
   "execution_count": 8,
   "metadata": {},
   "outputs": [
    {
     "name": "stdout",
     "output_type": "stream",
     "text": [
      "Test set accuracy (XGBoost): 0.7710280373831776\n",
      "Cross-validation scores: [0.70568562 0.71906355 0.75250836 0.76588629 0.73578595]\n",
      "Mean CV score: 0.7357859531772576\n",
      "Confusion Matrix:\n",
      "[[223  77]\n",
      " [ 70 272]]\n",
      "\n",
      "Classification Report:\n",
      "              precision    recall  f1-score   support\n",
      "\n",
      "         0.0       0.76      0.74      0.75       300\n",
      "         1.0       0.78      0.80      0.79       342\n",
      "\n",
      "    accuracy                           0.77       642\n",
      "   macro avg       0.77      0.77      0.77       642\n",
      "weighted avg       0.77      0.77      0.77       642\n",
      "\n",
      "\n",
      "Top 10 most important features:\n",
      "     feature  importance\n",
      "39        39    0.016499\n",
      "102      102    0.016372\n",
      "165      165    0.013690\n",
      "106      106    0.012167\n",
      "78        78    0.011252\n",
      "155      155    0.010951\n",
      "182      182    0.010681\n",
      "37        37    0.010054\n",
      "72        72    0.009723\n",
      "29        29    0.008812\n"
     ]
    }
   ],
   "source": [
    "from xgboost import XGBClassifier\n",
    "from sklearn.metrics import accuracy_score\n",
    "from sklearn.dummy import DummyClassifier\n",
    "\n",
    "# Load test dataset\n",
    "period_features_test = pd.read_csv(\"period_features_test_glove.csv\")\n",
    "\n",
    "# Train the XGBoost classifier on the train set\n",
    "xgb_clf = XGBClassifier(\n",
    "    random_state=42,\n",
    "    learning_rate=0.05,  # Reduced\n",
    "    n_estimators=200,    # Increased\n",
    "    max_depth=3,         # Reduced to prevent overfitting\n",
    "    min_child_weight=3,  # Helps with overfitting\n",
    "    subsample=0.8,       # Use 80% of data per tree\n",
    "    colsample_bytree=0.8 # Use 80% of features per tree\n",
    ").fit(X_train, y_train)\n",
    "\n",
    "# Test set prediction and evaluation\n",
    "y_pred = xgb_clf.predict(X_test)\n",
    "print(\"Test set accuracy (XGBoost):\", accuracy_score(y_test, y_pred))\n",
    "\n",
    "from sklearn.model_selection import cross_val_score\n",
    "\n",
    "scores = cross_val_score(xgb_clf, X_train, y_train, cv=5)\n",
    "print(\"Cross-validation scores:\", scores)\n",
    "print(\"Mean CV score:\", scores.mean())\n",
    "\n",
    "from sklearn.metrics import confusion_matrix, classification_report\n",
    "\n",
    "y_pred = xgb_clf.predict(X_test)\n",
    "print(\"Confusion Matrix:\")\n",
    "print(confusion_matrix(y_test, y_pred))\n",
    "print(\"\\nClassification Report:\")\n",
    "print(classification_report(y_test, y_pred))\n",
    "\n",
    "# Prepare the evaluation dataset\n",
    "X_eval = period_features_test.drop(columns=[\"MatchID\", \"PeriodID\", \"ID\"]).values\n",
    "\n",
    "# Predict using the trained XGBoost classifier\n",
    "xgb_preds = xgb_clf.predict(X_eval).astype(float)\n",
    "\n",
    "# Add predictions to the dataframe\n",
    "period_features_test[\"EventType\"] = xgb_preds\n",
    "\n",
    "# Prepare the final prediction dataframe\n",
    "predictions = period_features_test[[\"ID\", \"EventType\"]]\n",
    "\n",
    "# Save predictions to a CSV file\n",
    "pred_df = predictions\n",
    "pred_df.to_csv(\"xgboost_predictions.csv\", index=False)\n",
    "\n",
    "# Optional: Print feature importance\n",
    "feature_importance = pd.DataFrame({\n",
    "    'feature': range(X.shape[1]),\n",
    "    'importance': xgb_clf.feature_importances_\n",
    "})\n",
    "print(\"\\nTop 10 most important features:\")\n",
    "print(feature_importance.sort_values('importance', ascending=False).head(10))"
   ]
  }
 ],
 "metadata": {
  "kernelspec": {
   "display_name": "Python 3",
   "language": "python",
   "name": "python3"
  },
  "language_info": {
   "codemirror_mode": {
    "name": "ipython",
    "version": 3
   },
   "file_extension": ".py",
   "mimetype": "text/x-python",
   "name": "python",
   "nbconvert_exporter": "python",
   "pygments_lexer": "ipython3",
   "version": "3.11.10"
  }
 },
 "nbformat": 4,
 "nbformat_minor": 2
}
